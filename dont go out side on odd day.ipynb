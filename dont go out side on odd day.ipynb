{
 "cells": [
  {
   "cell_type": "code",
   "execution_count": 1,
   "id": "a1e37ad6",
   "metadata": {},
   "outputs": [
    {
     "name": "stdout",
     "output_type": "stream",
     "text": [
      "no of even numbers : 4\n",
      "no of odd numbers : 5\n"
     ]
    }
   ],
   "source": [
    "num=[1,2,3,4,5,6,7,8,9]\n",
    "even=0\n",
    "odd=0\n",
    "for i in num:\n",
    "    if i%2==0:\n",
    "        even+=1\n",
    "    else:\n",
    "        odd+=1\n",
    "    \n",
    "print(\"no of even numbers :\",even)\n",
    "print(\"no of odd numbers :\",odd)"
   ]
  },
  {
   "cell_type": "code",
   "execution_count": null,
   "id": "ce6d7daf",
   "metadata": {},
   "outputs": [],
   "source": []
  }
 ],
 "metadata": {
  "kernelspec": {
   "display_name": "Python 3 (ipykernel)",
   "language": "python",
   "name": "python3"
  },
  "language_info": {
   "codemirror_mode": {
    "name": "ipython",
    "version": 3
   },
   "file_extension": ".py",
   "mimetype": "text/x-python",
   "name": "python",
   "nbconvert_exporter": "python",
   "pygments_lexer": "ipython3",
   "version": "3.9.12"
  }
 },
 "nbformat": 4,
 "nbformat_minor": 5
}
